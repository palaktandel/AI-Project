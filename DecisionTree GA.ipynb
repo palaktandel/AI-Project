{
 "cells": [
  {
   "cell_type": "code",
   "execution_count": 1,
   "id": "bec4a18d",
   "metadata": {},
   "outputs": [],
   "source": [
    "import numpy as np\n",
    "import pandas as pd\n",
    "import random\n",
    "import matplotlib.pyplot as plt\n",
    "%matplotlib inline \n",
    "import seaborn as sns\n",
    "from sklearn.model_selection import train_test_split\n",
    "from sklearn.linear_model import LogisticRegression\n",
    "from sklearn.metrics import accuracy_score\n",
    "from sklearn import svm\n",
    "from sklearn import metrics"
   ]
  },
  {
   "cell_type": "code",
   "execution_count": 2,
   "id": "a2fa0d02",
   "metadata": {},
   "outputs": [],
   "source": [
    "df=pd.read_csv(\"D:\\AI-PROJECT\\Student Performance Analysis\\Student Performance Analysis\\Copy_students.csv\")"
   ]
  },
  {
   "cell_type": "code",
   "execution_count": 3,
   "id": "61662419",
   "metadata": {},
   "outputs": [
    {
     "data": {
      "text/html": [
       "<div>\n",
       "<style scoped>\n",
       "    .dataframe tbody tr th:only-of-type {\n",
       "        vertical-align: middle;\n",
       "    }\n",
       "\n",
       "    .dataframe tbody tr th {\n",
       "        vertical-align: top;\n",
       "    }\n",
       "\n",
       "    .dataframe thead th {\n",
       "        text-align: right;\n",
       "    }\n",
       "</style>\n",
       "<table border=\"1\" class=\"dataframe\">\n",
       "  <thead>\n",
       "    <tr style=\"text-align: right;\">\n",
       "      <th></th>\n",
       "      <th>sex</th>\n",
       "      <th>age</th>\n",
       "      <th>Medu</th>\n",
       "      <th>Fedu</th>\n",
       "      <th>Mjob</th>\n",
       "      <th>studytime</th>\n",
       "      <th>failures</th>\n",
       "      <th>schoolsup</th>\n",
       "      <th>paid</th>\n",
       "      <th>higher</th>\n",
       "      <th>internet</th>\n",
       "      <th>romantic</th>\n",
       "      <th>goout</th>\n",
       "      <th>health</th>\n",
       "      <th>absences</th>\n",
       "      <th>G1</th>\n",
       "      <th>G2</th>\n",
       "      <th>G3</th>\n",
       "      <th>subject</th>\n",
       "      <th>final_grade</th>\n",
       "    </tr>\n",
       "  </thead>\n",
       "  <tbody>\n",
       "    <tr>\n",
       "      <th>0</th>\n",
       "      <td>0</td>\n",
       "      <td>18</td>\n",
       "      <td>4</td>\n",
       "      <td>4</td>\n",
       "      <td>4</td>\n",
       "      <td>2</td>\n",
       "      <td>0</td>\n",
       "      <td>1</td>\n",
       "      <td>0</td>\n",
       "      <td>1</td>\n",
       "      <td>0</td>\n",
       "      <td>0</td>\n",
       "      <td>4</td>\n",
       "      <td>3</td>\n",
       "      <td>4</td>\n",
       "      <td>0</td>\n",
       "      <td>11</td>\n",
       "      <td>11</td>\n",
       "      <td>0</td>\n",
       "      <td>1</td>\n",
       "    </tr>\n",
       "    <tr>\n",
       "      <th>1</th>\n",
       "      <td>0</td>\n",
       "      <td>17</td>\n",
       "      <td>1</td>\n",
       "      <td>1</td>\n",
       "      <td>4</td>\n",
       "      <td>2</td>\n",
       "      <td>0</td>\n",
       "      <td>0</td>\n",
       "      <td>0</td>\n",
       "      <td>1</td>\n",
       "      <td>1</td>\n",
       "      <td>0</td>\n",
       "      <td>3</td>\n",
       "      <td>3</td>\n",
       "      <td>2</td>\n",
       "      <td>9</td>\n",
       "      <td>11</td>\n",
       "      <td>11</td>\n",
       "      <td>0</td>\n",
       "      <td>1</td>\n",
       "    </tr>\n",
       "    <tr>\n",
       "      <th>2</th>\n",
       "      <td>0</td>\n",
       "      <td>15</td>\n",
       "      <td>1</td>\n",
       "      <td>1</td>\n",
       "      <td>4</td>\n",
       "      <td>2</td>\n",
       "      <td>0</td>\n",
       "      <td>1</td>\n",
       "      <td>0</td>\n",
       "      <td>1</td>\n",
       "      <td>1</td>\n",
       "      <td>0</td>\n",
       "      <td>2</td>\n",
       "      <td>3</td>\n",
       "      <td>6</td>\n",
       "      <td>12</td>\n",
       "      <td>13</td>\n",
       "      <td>12</td>\n",
       "      <td>0</td>\n",
       "      <td>1</td>\n",
       "    </tr>\n",
       "    <tr>\n",
       "      <th>3</th>\n",
       "      <td>0</td>\n",
       "      <td>15</td>\n",
       "      <td>4</td>\n",
       "      <td>2</td>\n",
       "      <td>1</td>\n",
       "      <td>3</td>\n",
       "      <td>0</td>\n",
       "      <td>0</td>\n",
       "      <td>0</td>\n",
       "      <td>1</td>\n",
       "      <td>1</td>\n",
       "      <td>1</td>\n",
       "      <td>2</td>\n",
       "      <td>5</td>\n",
       "      <td>0</td>\n",
       "      <td>14</td>\n",
       "      <td>14</td>\n",
       "      <td>14</td>\n",
       "      <td>0</td>\n",
       "      <td>1</td>\n",
       "    </tr>\n",
       "    <tr>\n",
       "      <th>4</th>\n",
       "      <td>0</td>\n",
       "      <td>16</td>\n",
       "      <td>3</td>\n",
       "      <td>3</td>\n",
       "      <td>5</td>\n",
       "      <td>2</td>\n",
       "      <td>0</td>\n",
       "      <td>0</td>\n",
       "      <td>0</td>\n",
       "      <td>1</td>\n",
       "      <td>0</td>\n",
       "      <td>0</td>\n",
       "      <td>2</td>\n",
       "      <td>5</td>\n",
       "      <td>0</td>\n",
       "      <td>11</td>\n",
       "      <td>13</td>\n",
       "      <td>13</td>\n",
       "      <td>0</td>\n",
       "      <td>1</td>\n",
       "    </tr>\n",
       "  </tbody>\n",
       "</table>\n",
       "</div>"
      ],
      "text/plain": [
       "   sex  age  Medu  Fedu  Mjob  studytime  failures  schoolsup  paid  higher  \\\n",
       "0    0   18     4     4     4          2         0          1     0       1   \n",
       "1    0   17     1     1     4          2         0          0     0       1   \n",
       "2    0   15     1     1     4          2         0          1     0       1   \n",
       "3    0   15     4     2     1          3         0          0     0       1   \n",
       "4    0   16     3     3     5          2         0          0     0       1   \n",
       "\n",
       "   internet  romantic  goout  health  absences  G1  G2  G3  subject  \\\n",
       "0         0         0      4       3         4   0  11  11        0   \n",
       "1         1         0      3       3         2   9  11  11        0   \n",
       "2         1         0      2       3         6  12  13  12        0   \n",
       "3         1         1      2       5         0  14  14  14        0   \n",
       "4         0         0      2       5         0  11  13  13        0   \n",
       "\n",
       "  final_grade  \n",
       "0           1  \n",
       "1           1  \n",
       "2           1  \n",
       "3           1  \n",
       "4           1  "
      ]
     },
     "execution_count": 3,
     "metadata": {},
     "output_type": "execute_result"
    }
   ],
   "source": [
    "df['final_grade'] = 'na'\n",
    "df.loc[(df.G3 >= 15) & (df.G3 <= 20), 'final_grade'] = 0\n",
    "df.loc[(df.G3 >= 8) & (df.G3 <= 14), 'final_grade'] = 1 \n",
    "df.loc[(df.G3 >= 0) & (df.G3 <= 7), 'final_grade'] = 2 \n",
    "df.head(5)"
   ]
  },
  {
   "cell_type": "code",
   "execution_count": 4,
   "id": "bc007445",
   "metadata": {},
   "outputs": [],
   "source": [
    "dfd = df.copy()\n",
    "dfd = dfd.drop(['G3'], axis=1)"
   ]
  },
  {
   "cell_type": "code",
   "execution_count": 5,
   "id": "d97bac29",
   "metadata": {},
   "outputs": [],
   "source": [
    "from sklearn import preprocessing\n",
    "le = preprocessing.LabelEncoder()\n",
    "dfd.final_grade = le.fit_transform(dfd.final_grade)"
   ]
  },
  {
   "cell_type": "code",
   "execution_count": 6,
   "id": "dfbaf53c",
   "metadata": {},
   "outputs": [],
   "source": [
    "from sklearn.model_selection import train_test_split\n",
    "X = dfd.drop('final_grade',axis=1)\n",
    "y = dfd.final_grade\n",
    "X_train,X_test,y_train,y_test=train_test_split(X,y,test_size=0.3,random_state=101)"
   ]
  },
  {
   "cell_type": "code",
   "execution_count": 7,
   "id": "2166e6ce",
   "metadata": {},
   "outputs": [],
   "source": [
    "X_train = pd.get_dummies(X_train)\n",
    "X_test = pd.get_dummies(X_test)"
   ]
  },
  {
   "cell_type": "code",
   "execution_count": 8,
   "id": "353decae",
   "metadata": {},
   "outputs": [
    {
     "data": {
      "text/plain": [
       "11    0.914013\n",
       "14    0.914013\n",
       "15    0.914013\n",
       "16    0.914013\n",
       "17    0.914013\n",
       "18    0.914013\n",
       "19    0.914013\n",
       "20    0.914013\n",
       "dtype: float64"
      ]
     },
     "execution_count": 8,
     "metadata": {},
     "output_type": "execute_result"
    }
   ],
   "source": [
    "from sklearn.tree import DecisionTreeClassifier\n",
    "\n",
    "msl=[]\n",
    "for i in range(1,58):\n",
    "    tree = DecisionTreeClassifier(min_samples_leaf=i)\n",
    "    t= tree.fit(X_train, y_train)\n",
    "    ts=t.score(X_test, y_test)\n",
    "    msl.append(ts)\n",
    "msl = pd.Series(msl)\n",
    "msl.where(msl==msl.max()).dropna()"
   ]
  },
  {
   "cell_type": "code",
   "execution_count": 34,
   "id": "3cd79de8",
   "metadata": {},
   "outputs": [
    {
     "name": "stdout",
     "output_type": "stream",
     "text": [
      "Decisioin Tree Model Score : 0.9164383561643835 , Cross Validation Score : 0.9140127388535032\n"
     ]
    }
   ],
   "source": [
    "tree = DecisionTreeClassifier(min_samples_leaf=18)\n",
    "t= tree.fit(X_train, y_train)\n",
    "print(\"Decisioin Tree Model Score\" , \":\" , t.score(X_train, y_train) , \",\" , \n",
    "      \"Cross Validation Score\" ,\":\" , t.score(X_test, y_test))"
   ]
  },
  {
   "cell_type": "code",
   "execution_count": 35,
   "id": "11b8e354",
   "metadata": {},
   "outputs": [
    {
     "data": {
      "text/plain": [
       "array([[ 54,   9,   0],\n",
       "       [  4, 210,   1],\n",
       "       [  0,  13,  23]], dtype=int64)"
      ]
     },
     "execution_count": 35,
     "metadata": {},
     "output_type": "execute_result"
    }
   ],
   "source": [
    "predict = tree.predict(X_test)\n",
    "from sklearn.metrics import confusion_matrix,accuracy_score,precision_score,f1_score\n",
    "confusion_matrix(y_test,predict)"
   ]
  },
  {
   "cell_type": "code",
   "execution_count": 36,
   "id": "3669d1bf",
   "metadata": {},
   "outputs": [],
   "source": [
    "#defining various steps required for the genetic algorithm\n",
    "def initilization_of_population(size,n_feat):\n",
    "    population = []\n",
    "    for i in range(size):\n",
    "        chromosome = np.ones(n_feat,dtype=np.bool)\n",
    "        chromosome[:int(0.3*n_feat)]=False\n",
    "        np.random.shuffle(chromosome)\n",
    "        population.append(chromosome)\n",
    "    return population\n",
    "\n",
    "def fitness_score(population):\n",
    "    scores = []\n",
    "    for chromosome in population:\n",
    "        tree.fit(X_train.iloc[:,chromosome],y_train)\n",
    "        predictions = tree.predict(X_test.iloc[:,chromosome])\n",
    "        scores.append(accuracy_score(y_test,predictions))\n",
    "    scores, population = np.array(scores), np.array(population) \n",
    "    inds = np.argsort(scores)\n",
    "    return list(scores[inds][::-1]), list(population[inds,:][::-1])\n",
    "\n",
    "def selection(pop_after_fit,n_parents):\n",
    "    population_nextgen = []\n",
    "    for i in range(n_parents):\n",
    "        population_nextgen.append(pop_after_fit[i])\n",
    "    return population_nextgen\n",
    "\n",
    "def crossover(pop_after_sel):\n",
    "    population_nextgen=pop_after_sel\n",
    "    for i in range(len(pop_after_sel)):\n",
    "        child=pop_after_sel[i]\n",
    "        child[3:7]=pop_after_sel[(i+1)%len(pop_after_sel)][3:7]\n",
    "        population_nextgen.append(child)\n",
    "    return population_nextgen\n",
    "\n",
    "def mutation(pop_after_cross,mutation_rate):\n",
    "    population_nextgen = []\n",
    "    for i in range(0,len(pop_after_cross)):\n",
    "        chromosome = pop_after_cross[i]\n",
    "        for j in range(len(chromosome)):\n",
    "            if random.random() < mutation_rate:\n",
    "                chromosome[j]= not chromosome[j]\n",
    "        population_nextgen.append(chromosome)\n",
    "    #print(population_nextgen)\n",
    "    return population_nextgen\n",
    "\n",
    "def generations(size,n_feat,n_parents,mutation_rate,n_gen,X_train,X_test, y_train, y_test):\n",
    "                                   \n",
    "    best_chromo= []\n",
    "    best_score= []\n",
    "    population_nextgen = initilization_of_population(size,n_feat)\n",
    "    for i in range(n_gen):\n",
    "        scores, pop_after_fit = fitness_score(population_nextgen)\n",
    "        print(scores[:2])\n",
    "        pop_after_sel = selection(pop_after_fit,n_parents)\n",
    "        pop_after_cross = crossover(pop_after_sel)\n",
    "        population_nextgen = mutation(pop_after_cross,mutation_rate)\n",
    "        best_chromo.append(pop_after_fit[0])\n",
    "        best_score.append(scores[0])\n",
    "    return best_chromo,best_score"
   ]
  },
  {
   "cell_type": "code",
   "execution_count": 43,
   "id": "0d72dd14",
   "metadata": {},
   "outputs": [
    {
     "name": "stderr",
     "output_type": "stream",
     "text": [
      "C:\\Users\\Admin\\AppData\\Local\\Temp/ipykernel_26084/3933948493.py:5: DeprecationWarning: `np.bool` is a deprecated alias for the builtin `bool`. To silence this warning, use `bool` by itself. Doing this will not modify any behavior and is safe. If you specifically wanted the numpy scalar type, use `np.bool_` here.\n",
      "Deprecated in NumPy 1.20; for more details and guidance: https://numpy.org/devdocs/release/1.20.0-notes.html#deprecations\n",
      "  chromosome = np.ones(n_feat,dtype=np.bool)\n"
     ]
    },
    {
     "name": "stdout",
     "output_type": "stream",
     "text": [
      "[0.9140127388535032, 0.9140127388535032]\n",
      "[0.9140127388535032, 0.9140127388535032]\n",
      "[0.9140127388535032, 0.9140127388535032]\n",
      "[0.9140127388535032, 0.9140127388535032]\n",
      "[0.9140127388535032, 0.9140127388535032]\n",
      "[0.9044585987261147, 0.9044585987261147]\n",
      "[0.9044585987261147, 0.9044585987261147]\n",
      "[0.9140127388535032, 0.9140127388535032]\n",
      "[0.9140127388535032, 0.9140127388535032]\n",
      "[0.9140127388535032, 0.9140127388535032]\n",
      "0.9140127388535032\n"
     ]
    }
   ],
   "source": [
    "tree = DecisionTreeClassifier(min_samples_leaf=18)\n",
    "chromo,score=generations(size=100,n_feat=18,n_parents=5,mutation_rate=0.20, n_gen=10,X_train=X_train,X_test=X_test,y_train=y_train,y_test=y_test)\n",
    "tree.fit(X_train.iloc[:,chromo[-1]],y_train)\n",
    "predictions = tree.predict(X_test.iloc[:,chromo[-1]])\n",
    "#\"Accuracy score after genetic algorithm is= \"+\n",
    "print( str(accuracy_score(y_test,predictions)))"
   ]
  },
  {
   "cell_type": "code",
   "execution_count": 50,
   "id": "3500d3f5",
   "metadata": {},
   "outputs": [
    {
     "name": "stderr",
     "output_type": "stream",
     "text": [
      "C:\\Users\\Admin\\AppData\\Local\\Temp/ipykernel_26084/3933948493.py:5: DeprecationWarning: `np.bool` is a deprecated alias for the builtin `bool`. To silence this warning, use `bool` by itself. Doing this will not modify any behavior and is safe. If you specifically wanted the numpy scalar type, use `np.bool_` here.\n",
      "Deprecated in NumPy 1.20; for more details and guidance: https://numpy.org/devdocs/release/1.20.0-notes.html#deprecations\n",
      "  chromosome = np.ones(n_feat,dtype=np.bool)\n"
     ]
    },
    {
     "name": "stdout",
     "output_type": "stream",
     "text": [
      "[0.9140127388535032, 0.9140127388535032]\n",
      "[0.9140127388535032, 0.9140127388535032]\n",
      "[0.9140127388535032, 0.9140127388535032]\n",
      "[0.9140127388535032, 0.9140127388535032]\n",
      "[0.9140127388535032, 0.9140127388535032]\n",
      "[0.9140127388535032, 0.9140127388535032]\n",
      "[0.9140127388535032, 0.9140127388535032]\n",
      "[0.9140127388535032, 0.9140127388535032]\n",
      "[0.9140127388535032, 0.9140127388535032]\n",
      "[0.9140127388535032, 0.9140127388535032]\n",
      "[0.9140127388535032, 0.9140127388535032]\n",
      "[0.9140127388535032, 0.9140127388535032]\n",
      "[0.9140127388535032, 0.9140127388535032]\n",
      "[0.9140127388535032, 0.9140127388535032]\n",
      "[0.9140127388535032, 0.9140127388535032]\n",
      "[0.9140127388535032, 0.9140127388535032]\n",
      "[0.9140127388535032, 0.9140127388535032]\n",
      "[0.9140127388535032, 0.9140127388535032]\n",
      "[0.9140127388535032, 0.9140127388535032]\n",
      "[0.9044585987261147, 0.9044585987261147]\n",
      "0.9140127388535032\n"
     ]
    }
   ],
   "source": [
    "tree = DecisionTreeClassifier(min_samples_leaf=18)\n",
    "chromo,score=generations(size=200,n_feat=18,n_parents=5,mutation_rate=0.20, n_gen=20,X_train=X_train,X_test=X_test,y_train=y_train,y_test=y_test)\n",
    "tree.fit(X_train.iloc[:,chromo[-1]],y_train)\n",
    "predictions = tree.predict(X_test.iloc[:,chromo[-1]])\n",
    "#\"Accuracy score after genetic algorithm is= \"+\n",
    "print( str(accuracy_score(y_test,predictions)))"
   ]
  }
 ],
 "metadata": {
  "kernelspec": {
   "display_name": "Python 3 (ipykernel)",
   "language": "python",
   "name": "python3"
  },
  "language_info": {
   "codemirror_mode": {
    "name": "ipython",
    "version": 3
   },
   "file_extension": ".py",
   "mimetype": "text/x-python",
   "name": "python",
   "nbconvert_exporter": "python",
   "pygments_lexer": "ipython3",
   "version": "3.9.6"
  }
 },
 "nbformat": 4,
 "nbformat_minor": 5
}
